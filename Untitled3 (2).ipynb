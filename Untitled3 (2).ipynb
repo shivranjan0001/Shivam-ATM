{
 "cells": [
  {
   "cell_type": "code",
   "execution_count": null,
   "metadata": {},
   "outputs": [],
   "source": [
    "balance=95044.11\n",
    "print(\" Welcome to Shivam's ATM    \")\n",
    "print(\"\"\"\n",
    "1)        Balance\n",
    "2)        Withdraw\n",
    "3)        Deposit\n",
    "4)        Quit\n",
    "\n",
    "\n",
    "\"\"\")\n",
    "Option=int(input(\"Enter Option: \"))\n",
    "\n",
    "if Option==1:\n",
    "    print(\"Balance  Rs \",balance)\n",
    "\n",
    "\n",
    "if Option==2:\n",
    "    print(\"Balance  Rs  \",balance)\n",
    "    Withdraw=float(input(\"Enter Withdraw amount in Rs  \"))\n",
    "    if Withdraw>0:\n",
    "        forewardbalance=(balance-Withdraw)\n",
    "        print(\"Foreward Balance  Rs \",forewardbalance)\n",
    "    elif Withdraw>balance:\n",
    "        print(\"No funds in account\")\n",
    "    else:\n",
    "        print(\"No withdraw made\")\n",
    "\n",
    "if Option==3:\n",
    "    print(\"Balance  Rs \",balance)\n",
    "    Deposit=float(input(\"Enter deposit amount Rs \"))\n",
    "    if Deposit>0:\n",
    "        forewardbalance=(balance+Deposit)\n",
    "        print(\"Forewardbalance  Rs \",forewardbalance)\n",
    "    else:\n",
    "        print(\"None deposit made\")\n",
    "\n",
    "        \n",
    "\n",
    "if Option==4:\n",
    "    exit()\n",
    "\n",
    "\n"
   ]
  },
  {
   "cell_type": "code",
   "execution_count": null,
   "metadata": {},
   "outputs": [],
   "source": []
  },
  {
   "cell_type": "code",
   "execution_count": null,
   "metadata": {},
   "outputs": [],
   "source": []
  },
  {
   "cell_type": "code",
   "execution_count": null,
   "metadata": {},
   "outputs": [],
   "source": []
  },
  {
   "cell_type": "code",
   "execution_count": null,
   "metadata": {},
   "outputs": [],
   "source": []
  }
 ],
 "metadata": {
  "kernelspec": {
   "display_name": "Python 3",
   "language": "python",
   "name": "python3"
  },
  "language_info": {
   "codemirror_mode": {
    "name": "ipython",
    "version": 3
   },
   "file_extension": ".py",
   "mimetype": "text/x-python",
   "name": "python",
   "nbconvert_exporter": "python",
   "pygments_lexer": "ipython3",
   "version": "3.7.3"
  }
 },
 "nbformat": 4,
 "nbformat_minor": 2
}
