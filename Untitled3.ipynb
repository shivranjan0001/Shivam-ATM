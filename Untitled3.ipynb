{
 "cells": [
  {
   "cell_type": "code",
   "execution_count": null,
   "metadata": {},
   "outputs": [],
   "source": [
    "import random\n",
    "n = random.randint(1, 99)\n",
    "guess = int(input(\"Enter an integer from 1 to 99: \"))\n",
    "while n != \"guess\":\n",
    "    if guess < n:\n",
    "        print (\"guess is low\")\n",
    "        guess = int(input(\"Enter an integer from 1 to 99: \"))\n",
    "    elif guess > n:\n",
    "        print (\"guess is high\")\n",
    "        guess = int(input(\"Enter an integer from 1 to 99: \"))\n",
    "    else:\n",
    "        print (\"Wow you guessed it!\")\n",
    "        break"
   ]
  },
  {
   "cell_type": "code",
   "execution_count": null,
   "metadata": {},
   "outputs": [],
   "source": []
  },
  {
   "cell_type": "code",
   "execution_count": null,
   "metadata": {},
   "outputs": [],
   "source": []
  },
  {
   "cell_type": "code",
   "execution_count": null,
   "metadata": {},
   "outputs": [],
   "source": []
  },
  {
   "cell_type": "code",
   "execution_count": null,
   "metadata": {},
   "outputs": [],
   "source": []
  }
 ],
 "metadata": {
  "kernelspec": {
   "display_name": "Python 3",
   "language": "python",
   "name": "python3"
  }
 },
 "nbformat": 4,
 "nbformat_minor": 2
}
